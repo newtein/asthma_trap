{
 "cells": [
  {
   "cell_type": "code",
   "execution_count": 1,
   "id": "44d4359e",
   "metadata": {},
   "outputs": [],
   "source": [
    "import pandas as pd"
   ]
  },
  {
   "cell_type": "code",
   "execution_count": 3,
   "id": "8c0581c7",
   "metadata": {},
   "outputs": [],
   "source": [
    "fname = \"output_files/PR_IR_AF_2010_2019_{}_just_epa.csv\".format('no2')\n",
    "epa_file = \"data/states_and_counties.csv\"\n",
    "df = pd.read_csv(fname)\n",
    "epa_df = pd.read_csv(epa_file)"
   ]
  },
  {
   "cell_type": "code",
   "execution_count": 4,
   "id": "056b19ea",
   "metadata": {},
   "outputs": [],
   "source": [
    "epa_df =epa_df.drop_duplicates(['State Name', 'State Code'], keep='first')\n",
    "epa_df = epa_df[epa_df['State Code']!='CC']\n",
    "epa_df['State Code'] = epa_df['State Code'].astype(int)\n",
    "df = df.merge(epa_df[['State Name', 'State Code']], left_on='state_code', right_on='State Code')"
   ]
  },
  {
   "cell_type": "code",
   "execution_count": 5,
   "id": "ae55fdde",
   "metadata": {},
   "outputs": [],
   "source": [
    "def th(x):\n",
    "    return \"{:.2f}\".format(x*100)\n",
    "\n",
    "def th_ir(x):\n",
    "    return \"{:.2f}\".format(x*1000)\n",
    "\n",
    "def f(x, y, z):\n",
    "    return \"{}% ({}-{}%)\".format(th(x), th(y), th(z))\n",
    "\n",
    "df['AF'] = df.apply(lambda x: f(x.SAF, x.SAF_5, x.SAF_95), axis=1)"
   ]
  },
  {
   "cell_type": "code",
   "execution_count": 6,
   "id": "6f4efbbe",
   "metadata": {},
   "outputs": [],
   "source": [
    "def f(x, y, z):\n",
    "    return \"{} ({}-{})\".format(round(x), round(y), round(z))\n",
    "\n",
    "df['AC_'] = df.apply(lambda x: f(x.AC, x.AC_5, x.AC_95), axis=1)"
   ]
  },
  {
   "cell_type": "code",
   "execution_count": 7,
   "id": "4ee193b3",
   "metadata": {},
   "outputs": [],
   "source": [
    "df['PR'] = df['PR'].apply(th)\n",
    "df['IR'] = df['IR'].apply(th_ir)"
   ]
  },
  {
   "cell_type": "code",
   "execution_count": 8,
   "id": "d5d47fcd",
   "metadata": {},
   "outputs": [],
   "source": [
    "columns = ['State Name', 'year', 'population', 'PR', 'at_risk', 'IR', 'AF', 'AC_']\n",
    "df[columns].to_csv(\"output_files/Table_S4_.csv\", index=False)"
   ]
  },
  {
   "cell_type": "code",
   "execution_count": null,
   "id": "a0757cf0",
   "metadata": {},
   "outputs": [],
   "source": []
  },
  {
   "cell_type": "code",
   "execution_count": null,
   "id": "6f8c44a0",
   "metadata": {},
   "outputs": [],
   "source": []
  },
  {
   "cell_type": "code",
   "execution_count": 44,
   "id": "3590b9df",
   "metadata": {},
   "outputs": [],
   "source": []
  },
  {
   "cell_type": "code",
   "execution_count": 9,
   "id": "eb909601",
   "metadata": {},
   "outputs": [],
   "source": [
    "f = \"output_files/model_AC_2013_2019_no2.csv\"\n",
    "df = pd.read_csv(f)\n",
    "columns = [\"ev_sales\", \"nonev_sales\", \"AC\"]\n",
    "df[columns].describe().to_csv(\"output_files/Table_S5_.csv\")"
   ]
  },
  {
   "cell_type": "code",
   "execution_count": null,
   "id": "9ab1e37a",
   "metadata": {},
   "outputs": [],
   "source": []
  }
 ],
 "metadata": {
  "kernelspec": {
   "display_name": "Python 3 (ipykernel)",
   "language": "python",
   "name": "python3"
  },
  "language_info": {
   "codemirror_mode": {
    "name": "ipython",
    "version": 3
   },
   "file_extension": ".py",
   "mimetype": "text/x-python",
   "name": "python",
   "nbconvert_exporter": "python",
   "pygments_lexer": "ipython3",
   "version": "3.8.10"
  }
 },
 "nbformat": 4,
 "nbformat_minor": 5
}
