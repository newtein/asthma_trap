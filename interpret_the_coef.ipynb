{
 "cells": [
  {
   "cell_type": "code",
   "execution_count": 34,
   "id": "2b4d48bf",
   "metadata": {},
   "outputs": [],
   "source": [
    "import pandas as pd\n",
    "import math\n",
    "import numpy as np"
   ]
  },
  {
   "cell_type": "code",
   "execution_count": 35,
   "id": "d8eba33c",
   "metadata": {},
   "outputs": [],
   "source": [
    "def treatEV(coeff):\n",
    "    rr = 1-math.exp(coeff)\n",
    "    return rr\n",
    "\n",
    "def treatnonEV(coeff):\n",
    "    rr= math.exp(coeff)-1\n",
    "    return rr\n",
    "\n",
    "def get_baseline_asthma(df):\n",
    "    mean = df['AC'].mean()\n",
    "    weight_mean = (df['AC']*(df['year']-2012)).sum()/(df['year']-2012).sum()\n",
    "    return weight_mean\n",
    "\n",
    "def deltanonEV(df, unit):\n",
    "    mean = df['nonev_sales'].mean()\n",
    "    weight_mean = (df['nonev_sales']*(df['year']-2012)).sum()/(df['year']-2012).sum()\n",
    "    return weight_mean * (np.exp(unit)-1)\n",
    "\n",
    "def deltaEV(df, unit):\n",
    "    mean = df['ev_sales'].mean()\n",
    "    weight_mean = (df['ev_sales']*(df['year']-2012)).sum()/(df['year']-2012).sum()\n",
    "    return weight_mean * (np.exp(unit)-1)\n",
    "\n",
    "def incrementfactor(evcoef, nonevcoef, df):\n",
    "    ev=treatEV(evcoef)*get_baseline_asthma(df)\n",
    "    nonev=treatnonEV(nonevcoef)*get_baseline_asthma(df)\n",
    "    ms = (ev) / (ev + nonev)\n",
    "    return ms, ev, nonev\n",
    "\n",
    "def minMS(evcoef, nonevcoef, df):\n",
    "    ms, ev, nonev = incrementfactor(evcoef, nonevcoef, df)\n",
    "    return ms, ev, nonev\n",
    "    "
   ]
  },
  {
   "cell_type": "code",
   "execution_count": 36,
   "id": "459a60c7",
   "metadata": {},
   "outputs": [],
   "source": [
    "def read_model(f, pollutant, stat):\n",
    "    df = pd.read_csv(\"output_files/model_AC_2013_2019_{}.csv\".format(pollutant))\n",
    "    sdf = pd.read_csv(\"output_files/{}_{}_{}.csv\".format(f, pollutant, stat))\n",
    "    coef_ev_sales_log = sdf.loc[sdf['term']==\"ev_sales_log\", \"estimate\"].item()\n",
    "    coef_ev_sales_log_5 = sdf.loc[sdf['term']==\"ev_sales_log\", \"CI_lower\"].item()\n",
    "    coef_ev_sales_log_95 = sdf.loc[sdf['term']==\"ev_sales_log\", \"CI_upper\"].item()\n",
    "    \n",
    "    coef_nonev_sales_log = sdf.loc[sdf['term']==\"nonev_sales_log\", \"estimate\"].item()\n",
    "    coef_nonev_sales_log_5 = sdf.loc[sdf['term']==\"nonev_sales_log\", \"CI_lower\"].item()\n",
    "    coef_nonev_sales_log_95 = sdf.loc[sdf['term']==\"nonev_sales_log\", \"CI_upper\"].item()\n",
    "    \n",
    "    marketshare, ev, nonev= minMS(coef_ev_sales_log,coef_nonev_sales_log,df)\n",
    "    marketshare_5, ev_5, nonev_5 = minMS(coef_ev_sales_log_5,coef_nonev_sales_log_5,df)\n",
    "    marketshare_95, ev_95, nonev_95 = minMS(coef_ev_sales_log_95,coef_nonev_sales_log_95,df)\n",
    "    a = (marketshare, marketshare_5, marketshare_95)\n",
    "    b = (ev, ev_5, ev_95)\n",
    "    c = (nonev, nonev_5, nonev_95)\n",
    "    return a,b,c\n",
    "\n",
    "def execute(f, pollutant): \n",
    "    print(pollutant)\n",
    "    a, b, c = read_model(f, pollutant, 'AC')\n",
    "    marketshare_AC, marketshare_AC_5, marketshare_AC_95 = a\n",
    "    ev, ev_5, ev_95 = b\n",
    "    nonev, nonev_5, nonev_95 = c\n",
    "    \n",
    "    a,b,c= read_model(f, pollutant, 'AC_5')\n",
    "    LBmarketshare_AC, LBmarketshare_AC_5, LBmarketshare_AC_95 = a\n",
    "    LBev, LBev_5, LBev_95 = b\n",
    "    LBnonev, LBnonev_5, LBnonev_95 = c\n",
    "    \n",
    "    \n",
    "    a,b,c = read_model(f, pollutant, 'AC_95')\n",
    "    UBmarketshare_AC, UBmarketshare_AC_5, UBmarketshare_AC_95 = a\n",
    "    UBev, UBev_5, UBev_95 = b\n",
    "    UBnonev, UBnonev_5, UBnonev_95 = c\n",
    "    \n",
    "    a = \"{:.2f} ({:.2f}-{:.2f})\\n\".format(marketshare_AC*100, marketshare_AC_5*100, marketshare_AC_95*100)\n",
    "    LBa = \"{:.2f} ({:.2f}-{:.2f})\\n\".format(LBmarketshare_AC*100, LBmarketshare_AC_5*100, LBmarketshare_AC_95*100)\n",
    "    UBa = \"{:.2f} ({:.2f}-{:.2f})\\n\".format(UBmarketshare_AC*100, UBmarketshare_AC_5*100, UBmarketshare_AC_95*100)\n",
    "    MS = (a, LBa, UBa)\n",
    "    \n",
    "    EV = \"{} ({}-{})\".format(round(ev), round(ev_5), round(ev_95))\n",
    "    LBEV = \"{} ({}-{})\".format(round(LBev), round(LBev_5), round(LBev_95))\n",
    "    UBEV = \"{} ({}-{})\".format(round(UBev), round(UBev_5), round(UBev_95))\n",
    "    ev_count = (EV, LBEV, UBEV)\n",
    "    \n",
    "    NONEV = \"{} ({}-{})\".format(round(nonev), round(nonev_5), round(nonev_95))\n",
    "    LBNONEV = \"{} ({}-{})\".format(round(LBnonev), round(LBnonev_5), round(LBnonev_95))\n",
    "    UBNONEV = \"{} ({}-{})\".format(round(UBnonev), round(UBnonev_5), round(UBnonev_95))\n",
    "    nonev_count = (NONEV, LBNONEV, UBNONEV)\n",
    "\n",
    "    return MS, ev_count, nonev_count\n",
    "\n",
    "def open_string(s):\n",
    "    rs = []\n",
    "    s = s.strip().split()\n",
    "    rs.append(s[0])\n",
    "    s2 = s[1].replace(\"(\", \"\").replace(\")\", \"\").split(\"-\")\n",
    "    rs.append(s2[0])\n",
    "    rs.append(s2[1])\n",
    "    rs = [float(i) for i in rs]\n",
    "    return rs\n",
    "\n",
    "def align(string_val):\n",
    "    rs= []\n",
    "    for i in string_val:\n",
    "        rs.extend(open_string(i))\n",
    "    return rs\n",
    "    \n",
    "def get_index(ev):\n",
    "    min_ev = min(ev)\n",
    "    min_index = ev.index(min_ev)\n",
    "    \n",
    "    max_ev = max(ev)\n",
    "    max_index = ev.index(max_ev)\n",
    "    return min_index, max_index\n",
    "\n",
    "def get_results(f, pollutant):\n",
    "    rs = execute(f, pollutant)\n",
    "    ms = align(rs[0])\n",
    "    ev = align(rs[1])\n",
    "    nonev = align(rs[2])\n",
    "    ev = [int(i) for i in ev]\n",
    "    nonev = [int(i) for i in nonev]\n",
    "\n",
    "    min_index, max_index = get_index(ev)\n",
    "    final_result = {\n",
    "        \"EV Sales\": \"{} (-{}--{})\".format(ev[0], ev[max_index], ev[min_index]),\n",
    "        \"non-EV Sales\": \"{} ({}-{})\".format(nonev[0], nonev[max_index], nonev[min_index]),\n",
    "        \"MS\": \"{}% ({}%-{}%)\".format(ms[0], ms[min_index], ms[max_index]),\n",
    "    }\n",
    "    return final_result"
   ]
  },
  {
   "cell_type": "code",
   "execution_count": 37,
   "id": "cff82307",
   "metadata": {},
   "outputs": [
    {
     "name": "stdout",
     "output_type": "stream",
     "text": [
      "no2\n"
     ]
    },
    {
     "data": {
      "text/plain": [
       "{'EV Sales': '264 (-401--113)',\n",
       " 'non-EV Sales': '971 (563-1471)',\n",
       " 'MS': '21.38% (7.14%-41.59%)'}"
      ]
     },
     "execution_count": 37,
     "metadata": {},
     "output_type": "execute_result"
    }
   ],
   "source": [
    "get_results(\"results\",\"no2\")"
   ]
  },
  {
   "cell_type": "code",
   "execution_count": 40,
   "id": "40bd10e6",
   "metadata": {},
   "outputs": [
    {
     "name": "stdout",
     "output_type": "stream",
     "text": [
      "pm2.5\n"
     ]
    },
    {
     "data": {
      "text/plain": [
       "{'EV Sales': '250 (-361--131)',\n",
       " 'non-EV Sales': '613 (336-950)',\n",
       " 'MS': '29.0% (12.11%-51.83%)'}"
      ]
     },
     "execution_count": 40,
     "metadata": {},
     "output_type": "execute_result"
    }
   ],
   "source": [
    "get_results(\"results\",'pm2.5')"
   ]
  },
  {
   "cell_type": "code",
   "execution_count": 39,
   "id": "46a4ed2c",
   "metadata": {},
   "outputs": [
    {
     "name": "stdout",
     "output_type": "stream",
     "text": [
      "pm10\n"
     ]
    },
    {
     "data": {
      "text/plain": [
       "{'EV Sales': '551 (-802--277)',\n",
       " 'non-EV Sales': '1089 (519-1747)',\n",
       " 'MS': '33.62% (13.68%-60.74%)'}"
      ]
     },
     "execution_count": 39,
     "metadata": {},
     "output_type": "execute_result"
    }
   ],
   "source": [
    "get_results(\"results\", 'pm10')"
   ]
  },
  {
   "cell_type": "code",
   "execution_count": 164,
   "id": "305646c7",
   "metadata": {},
   "outputs": [],
   "source": [
    "sdf = pd.read_csv(\"output_files/results_{}_{}.csv\".format(\"no2\", \"AC\"))\n",
    "coef_ev_sales_log = sdf.loc[sdf['term']==\"ev_sales_log\", \"2.5 %\"].item()\n",
    "coef_nonev_sales_log = sdf.loc[sdf['term']==\"nonev_sales_log\", \"estimate\"].item()"
   ]
  },
  {
   "cell_type": "code",
   "execution_count": 157,
   "id": "33548e5f",
   "metadata": {},
   "outputs": [
    {
     "data": {
      "text/html": [
       "<div>\n",
       "<style scoped>\n",
       "    .dataframe tbody tr th:only-of-type {\n",
       "        vertical-align: middle;\n",
       "    }\n",
       "\n",
       "    .dataframe tbody tr th {\n",
       "        vertical-align: top;\n",
       "    }\n",
       "\n",
       "    .dataframe thead th {\n",
       "        text-align: right;\n",
       "    }\n",
       "</style>\n",
       "<table border=\"1\" class=\"dataframe\">\n",
       "  <thead>\n",
       "    <tr style=\"text-align: right;\">\n",
       "      <th></th>\n",
       "      <th>Unnamed: 0</th>\n",
       "      <th>effect</th>\n",
       "      <th>group</th>\n",
       "      <th>term</th>\n",
       "      <th>estimate</th>\n",
       "      <th>std.error</th>\n",
       "      <th>statistic</th>\n",
       "      <th>p.value</th>\n",
       "      <th>2.5 %</th>\n",
       "      <th>97.5 %</th>\n",
       "    </tr>\n",
       "  </thead>\n",
       "  <tbody>\n",
       "    <tr>\n",
       "      <th>0</th>\n",
       "      <td>.sig01</td>\n",
       "      <td>fixed</td>\n",
       "      <td>NaN</td>\n",
       "      <td>(Intercept)</td>\n",
       "      <td>-11.114891</td>\n",
       "      <td>1.029780</td>\n",
       "      <td>-10.793463</td>\n",
       "      <td>3.695944e-27</td>\n",
       "      <td>0.415478</td>\n",
       "      <td>0.682292</td>\n",
       "    </tr>\n",
       "    <tr>\n",
       "      <th>1</th>\n",
       "      <td>.sig02</td>\n",
       "      <td>fixed</td>\n",
       "      <td>NaN</td>\n",
       "      <td>nonev_sales_log</td>\n",
       "      <td>0.473295</td>\n",
       "      <td>0.096909</td>\n",
       "      <td>4.883898</td>\n",
       "      <td>1.040090e-06</td>\n",
       "      <td>0.185927</td>\n",
       "      <td>0.748973</td>\n",
       "    </tr>\n",
       "    <tr>\n",
       "      <th>2</th>\n",
       "      <td>(Intercept)</td>\n",
       "      <td>fixed</td>\n",
       "      <td>NaN</td>\n",
       "      <td>ev_sales_log</td>\n",
       "      <td>-0.179829</td>\n",
       "      <td>0.052295</td>\n",
       "      <td>-3.438755</td>\n",
       "      <td>5.843957e-04</td>\n",
       "      <td>-13.230068</td>\n",
       "      <td>-9.103846</td>\n",
       "    </tr>\n",
       "    <tr>\n",
       "      <th>3</th>\n",
       "      <td>nonev_sales_log</td>\n",
       "      <td>fixed</td>\n",
       "      <td>NaN</td>\n",
       "      <td>year_fixed</td>\n",
       "      <td>-0.476844</td>\n",
       "      <td>0.054080</td>\n",
       "      <td>-8.817351</td>\n",
       "      <td>1.171998e-18</td>\n",
       "      <td>0.285030</td>\n",
       "      <td>0.671096</td>\n",
       "    </tr>\n",
       "    <tr>\n",
       "      <th>4</th>\n",
       "      <td>ev_sales_log</td>\n",
       "      <td>ran_pars</td>\n",
       "      <td>state_code:EPA_Region</td>\n",
       "      <td>sd__(Intercept)</td>\n",
       "      <td>0.526775</td>\n",
       "      <td>NaN</td>\n",
       "      <td>NaN</td>\n",
       "      <td>NaN</td>\n",
       "      <td>-0.283395</td>\n",
       "      <td>-0.078052</td>\n",
       "    </tr>\n",
       "    <tr>\n",
       "      <th>5</th>\n",
       "      <td>year_fixed</td>\n",
       "      <td>ran_pars</td>\n",
       "      <td>EPA_Region</td>\n",
       "      <td>sd__(Intercept)</td>\n",
       "      <td>0.396819</td>\n",
       "      <td>NaN</td>\n",
       "      <td>NaN</td>\n",
       "      <td>NaN</td>\n",
       "      <td>-0.583423</td>\n",
       "      <td>-0.371208</td>\n",
       "    </tr>\n",
       "  </tbody>\n",
       "</table>\n",
       "</div>"
      ],
      "text/plain": [
       "        Unnamed: 0    effect                  group             term  \\\n",
       "0           .sig01     fixed                    NaN      (Intercept)   \n",
       "1           .sig02     fixed                    NaN  nonev_sales_log   \n",
       "2      (Intercept)     fixed                    NaN     ev_sales_log   \n",
       "3  nonev_sales_log     fixed                    NaN       year_fixed   \n",
       "4     ev_sales_log  ran_pars  state_code:EPA_Region  sd__(Intercept)   \n",
       "5       year_fixed  ran_pars             EPA_Region  sd__(Intercept)   \n",
       "\n",
       "    estimate  std.error  statistic       p.value      2.5 %    97.5 %  \n",
       "0 -11.114891   1.029780 -10.793463  3.695944e-27   0.415478  0.682292  \n",
       "1   0.473295   0.096909   4.883898  1.040090e-06   0.185927  0.748973  \n",
       "2  -0.179829   0.052295  -3.438755  5.843957e-04 -13.230068 -9.103846  \n",
       "3  -0.476844   0.054080  -8.817351  1.171998e-18   0.285030  0.671096  \n",
       "4   0.526775        NaN        NaN           NaN  -0.283395 -0.078052  \n",
       "5   0.396819        NaN        NaN           NaN  -0.583423 -0.371208  "
      ]
     },
     "execution_count": 157,
     "metadata": {},
     "output_type": "execute_result"
    }
   ],
   "source": [
    "sdf"
   ]
  },
  {
   "cell_type": "code",
   "execution_count": 144,
   "id": "47fe9bd5",
   "metadata": {},
   "outputs": [
    {
     "data": {
      "text/plain": [
       "548249.6111989849"
      ]
     },
     "execution_count": 144,
     "metadata": {},
     "output_type": "execute_result"
    }
   ],
   "source": [
    "319068.50326797384*(math.exp(1)-1)"
   ]
  },
  {
   "cell_type": "code",
   "execution_count": 172,
   "id": "ed96ea90",
   "metadata": {},
   "outputs": [],
   "source": []
  },
  {
   "cell_type": "code",
   "execution_count": 109,
   "id": "7f17de54",
   "metadata": {},
   "outputs": [
    {
     "name": "stdout",
     "output_type": "stream",
     "text": [
      "no2\n",
      "EV rr -0.02857477567983291 0.0281741310945726\n",
      "nonEV rr 0.24361877618658734 0.218025497340806\n",
      "x by baseline asthma -45.82505057458781 390.6887271751571\n",
      "pm2.5\n",
      "EV rr 0.006724165847561414 -0.0067468749076403\n",
      "nonEV rr 0.11825253569690952 0.111767230886407\n",
      "x by baseline asthma 12.841072431811076 225.82568761001568\n",
      "pm10\n",
      "EV rr 0.03193333843762114 -0.0324543288262711\n",
      "nonEV rr 0.09140726325813309 0.0874679307397258\n",
      "x by baseline asthma 86.3861396819948 247.27513620884636\n"
     ]
    },
    {
     "data": {
      "text/plain": [
       "('-0.86 (nan-nan)\\n', '100.00 (nan-nan)\\n', '12.30 (nan-nan)\\n')"
      ]
     },
     "execution_count": 109,
     "metadata": {},
     "output_type": "execute_result"
    }
   ],
   "source": [
    "# year fixed is year fixed\n",
    "execute('no2'),execute('pm2.5'), execute('pm10')"
   ]
  },
  {
   "cell_type": "code",
   "execution_count": 111,
   "id": "77516522",
   "metadata": {},
   "outputs": [
    {
     "name": "stdout",
     "output_type": "stream",
     "text": [
      "no2\n",
      "EV rr -0.03053657525441622 0.0300796134447898\n",
      "nonEV rr 0.24107081294266108 0.215974565789273\n",
      "x by baseline asthma -48.97116677615552 386.60258680354553\n",
      "pm2.5\n",
      "EV rr 0.006521852442384346 -0.0065432126447342\n",
      "nonEV rr 0.11799362213038922 0.111535670003209\n",
      "x by baseline asthma 12.454716540433527 225.33124295522308\n",
      "pm10\n",
      "EV rr 0.03379796187343065 -0.0343823174389165\n",
      "nonEV rr 0.09392566589141982 0.0897727546084846\n",
      "x by baseline asthma 91.43032323627028 254.08792473327782\n"
     ]
    },
    {
     "data": {
      "text/plain": [
       "('-0.86 (nan-nan)\\n', '100.00 (nan-nan)\\n', '11.38 (nan-nan)\\n')"
      ]
     },
     "execution_count": 111,
     "metadata": {},
     "output_type": "execute_result"
    }
   ],
   "source": [
    "# year fixed is log(year)\n",
    "execute('no2'),execute('pm2.5'), execute('pm10')"
   ]
  },
  {
   "cell_type": "code",
   "execution_count": 112,
   "id": "a3dda73b",
   "metadata": {},
   "outputs": [
    {
     "name": "stdout",
     "output_type": "stream",
     "text": [
      "no2\n",
      "EV rr 0.16458689884059585 -0.179828944543343\n",
      "nonEV rr 0.6052751812816011 0.473295194397578\n",
      "x by baseline asthma 263.94618273794185 970.6730896000639\n",
      "pm2.5\n",
      "EV rr 0.13103726957708794 -0.140455042527237\n",
      "nonEV rr 0.3207602461322443 0.278207514845745\n",
      "x by baseline asthma 250.24056634718096 612.5526418006867\n",
      "pm10\n",
      "EV rr 0.20379244192958657 -0.227895375782737\n",
      "nonEV rr 0.40234156994262027 0.338143389426201\n",
      "x by baseline asthma 551.2997768477459 1088.4153289775945\n"
     ]
    },
    {
     "data": {
      "text/plain": [
       "('24.69 (nan-nan)\\n', '8.20 (nan-nan)\\n', '5.01 (nan-nan)\\n')"
      ]
     },
     "execution_count": 112,
     "metadata": {},
     "output_type": "execute_result"
    }
   ],
   "source": [
    "# year fixed is log(year_fixed)\n",
    "\n",
    "execute('no2'),execute('pm2.5'), execute('pm10')"
   ]
  },
  {
   "cell_type": "code",
   "execution_count": 113,
   "id": "2da87070",
   "metadata": {},
   "outputs": [
    {
     "name": "stdout",
     "output_type": "stream",
     "text": [
      "no2\n",
      "EV rr -0.14715459363297123 0.137284609913386\n",
      "nonEV rr 0.08885671496917125 0.0851282604264799\n",
      "x by baseline asthma -235.99018837698384 142.49852747672793\n",
      "pm2.5\n",
      "EV rr -0.024257885798383727 0.0239683365105277\n",
      "nonEV rr 0.0692225865169751 0.0669318297480327\n",
      "x by baseline asthma -46.32504248725726 132.1936828348979\n",
      "pm10\n",
      "EV rr -0.06257960946918661 0.0606995455688148\n",
      "nonEV rr -0.029332530938859902 -0.0297713316913538\n",
      "x by baseline asthma -169.29050169339445 -79.35042932828884\n"
     ]
    },
    {
     "data": {
      "text/plain": [
       "('-0.39 (nan-nan)\\n', '-0.80 (nan-nan)\\n', '0.51 (nan-nan)\\n')"
      ]
     },
     "execution_count": 113,
     "metadata": {},
     "output_type": "execute_result"
    }
   ],
   "source": [
    "# year is a factor now\n",
    "execute('no2'),execute('pm2.5'), execute('pm10')"
   ]
  },
  {
   "cell_type": "code",
   "execution_count": 114,
   "id": "b630cad8",
   "metadata": {},
   "outputs": [
    {
     "name": "stdout",
     "output_type": "stream",
     "text": [
      "no2\n",
      "EV rr -0.14715459363297123 0.137284609913386\n",
      "nonEV rr 0.08885671496917125 0.0851282604264799\n",
      "x by baseline asthma -235.99018837698384 142.49852747672793\n",
      "pm2.5\n",
      "EV rr -0.024257885798383727 0.0239683365105277\n",
      "nonEV rr 0.0692225865169751 0.0669318297480327\n",
      "x by baseline asthma -46.32504248725726 132.1936828348979\n",
      "pm10\n",
      "EV rr -0.06257960946918661 0.0606995455688148\n",
      "nonEV rr -0.029332530938859902 -0.0297713316913538\n",
      "x by baseline asthma -169.29050169339445 -79.35042932828884\n"
     ]
    },
    {
     "data": {
      "text/plain": [
       "('-0.39 (nan-nan)\\n', '-0.80 (nan-nan)\\n', '0.51 (nan-nan)\\n')"
      ]
     },
     "execution_count": 114,
     "metadata": {},
     "output_type": "execute_result"
    }
   ],
   "source": [
    "# epa region is also a factor\n",
    "execute('no2'),execute('pm2.5'), execute('pm10')"
   ]
  },
  {
   "cell_type": "code",
   "execution_count": 115,
   "id": "67a37046",
   "metadata": {},
   "outputs": [
    {
     "name": "stdout",
     "output_type": "stream",
     "text": [
      "no2\n",
      "EV rr 0.40746395111167755 -0.523343565818043\n",
      "nonEV rr 1.185662711682252 0.781919083102319\n",
      "x by baseline asthma 653.4454155030198 1901.4341297380167\n",
      "pm2.5\n",
      "EV rr 0.3420439777612374 -0.418617185393812\n",
      "nonEV rr 0.7492037630841417 0.559160691871569\n",
      "x by baseline asthma 653.1979717439161 1430.7469515252794\n",
      "pm10\n",
      "EV rr 0.4739003220747784 -0.642264582438641\n",
      "nonEV rr 1.2083292345583883 0.792236227153422\n",
      "x by baseline asthma 1281.9962278000967 3268.7749901971965\n"
     ]
    },
    {
     "data": {
      "text/plain": [
       "('12.86 (nan-nan)\\n', '6.29 (nan-nan)\\n', '9.12 (nan-nan)\\n')"
      ]
     },
     "execution_count": 115,
     "metadata": {},
     "output_type": "execute_result"
    }
   ],
   "source": [
    "# no year\n",
    "execute('no2'),execute('pm2.5'), execute('pm10')"
   ]
  },
  {
   "cell_type": "code",
   "execution_count": 118,
   "id": "c5e0c57e",
   "metadata": {},
   "outputs": [
    {
     "name": "stdout",
     "output_type": "stream",
     "text": [
      "no2\n",
      "EV rr -0.14715459363297123 0.137284609913386\n",
      "nonEV rr 0.08885671496917125 0.0851282604264799\n",
      "x by baseline asthma -235.99018837698384 142.49852747672793\n",
      "pm2.5\n",
      "EV rr -0.024257885798383727 0.0239683365105277\n",
      "nonEV rr 0.0692225865169751 0.0669318297480327\n",
      "x by baseline asthma -46.32504248725726 132.1936828348979\n",
      "pm10\n",
      "EV rr -0.06257960946918661 0.0606995455688148\n",
      "nonEV rr -0.029332530938859902 -0.0297713316913538\n",
      "x by baseline asthma -169.29050169339445 -79.35042932828884\n"
     ]
    },
    {
     "data": {
      "text/plain": [
       "('-0.39 (nan-nan)\\n', '-0.80 (nan-nan)\\n', '0.51 (nan-nan)\\n')"
      ]
     },
     "execution_count": 118,
     "metadata": {},
     "output_type": "execute_result"
    }
   ],
   "source": [
    "# factor year and fac year_sq\n",
    "execute('no2'),execute('pm2.5'), execute('pm10')"
   ]
  },
  {
   "cell_type": "code",
   "execution_count": 119,
   "id": "32317ace",
   "metadata": {},
   "outputs": [
    {
     "name": "stdout",
     "output_type": "stream",
     "text": [
      "no2\n",
      "EV rr -0.026503866952466426 0.0261587245934442\n",
      "nonEV rr 0.7555936162172128 0.56280704258542\n",
      "x by baseline asthma -42.50395723582537 1211.7370951551052\n",
      "pm2.5\n",
      "EV rr 0.013562001236669508 -0.0136548052023164\n",
      "nonEV rr 0.3826737609246871 0.324019132538\n",
      "x by baseline asthma 25.899218453028194 730.7882632861521\n",
      "pm10\n",
      "EV rr -0.00011874609548523374 0.0001187390457258\n",
      "nonEV rr 0.5636369084966111 0.447014459478111\n",
      "x by baseline asthma -0.32123220725315 1524.7518452362333\n"
     ]
    },
    {
     "data": {
      "text/plain": [
       "('-0.86 (nan-nan)\\n', '100.00 (nan-nan)\\n', '-0.86 (nan-nan)\\n')"
      ]
     },
     "execution_count": 119,
     "metadata": {},
     "output_type": "execute_result"
    }
   ],
   "source": [
    "#  factor year and fac year_sq with desnity\n",
    "execute('no2'),execute('pm2.5'), execute('pm10')"
   ]
  },
  {
   "cell_type": "code",
   "execution_count": 120,
   "id": "d3735c56",
   "metadata": {},
   "outputs": [
    {
     "name": "stdout",
     "output_type": "stream",
     "text": [
      "no2\n",
      "EV rr -0.028565659172263835 0.0281652678128883\n",
      "nonEV rr 0.24366159243660257 0.218059925506251\n",
      "x by baseline asthma -45.81043053259353 390.75739112004146\n",
      "pm2.5\n",
      "EV rr 0.006720635615430459 -0.006743320783261\n",
      "nonEV rr 0.11824857474731876 0.111763688791505\n",
      "x by baseline asthma 12.834330782731863 225.81812342410075\n",
      "pm10\n",
      "EV rr 0.03190719695672728 -0.0324273253884105\n",
      "nonEV rr 0.09133263202552522 0.0873995476650423\n",
      "x by baseline asthma 86.31542168849712 247.07324362886146\n"
     ]
    },
    {
     "data": {
      "text/plain": [
       "('-0.86 (nan-nan)\\n', '100.00 (nan-nan)\\n', '12.30 (nan-nan)\\n')"
      ]
     },
     "execution_count": 120,
     "metadata": {},
     "output_type": "execute_result"
    }
   ],
   "source": [
    "# year continous with population\n",
    "execute('no2'),execute('pm2.5'), execute('pm10')"
   ]
  },
  {
   "cell_type": "code",
   "execution_count": 121,
   "id": "a716ff60",
   "metadata": {},
   "outputs": [
    {
     "name": "stdout",
     "output_type": "stream",
     "text": [
      "no2\n",
      "EV rr -0.034720224374933384 0.034131075562161\n",
      "nonEV rr 0.23346847041150154 0.209830095583569\n",
      "x by baseline asthma -55.68043843176244 374.41079447316514\n",
      "pm2.5\n",
      "EV rr 0.016113210898018204 -0.0162444402744693\n",
      "nonEV rr 0.1327411371096081 0.124640480309922\n",
      "x by baseline asthma 30.77123808978294 253.49442517447883\n",
      "pm10\n",
      "EV rr 0.03496579187549376 -0.0355917294377609\n",
      "nonEV rr 0.09613047794338803 0.0917862306584477\n",
      "x by baseline asthma 94.58953961072221 260.05238730476646\n"
     ]
    },
    {
     "data": {
      "text/plain": [
       "('-0.86 (nan-nan)\\n', '96.97 (nan-nan)\\n', '11.06 (nan-nan)\\n')"
      ]
     },
     "execution_count": 121,
     "metadata": {},
     "output_type": "execute_result"
    }
   ],
   "source": [
    "# year continous and year_sq cont with population\n",
    "execute('no2'),execute('pm2.5'), execute('pm10')"
   ]
  },
  {
   "cell_type": "code",
   "execution_count": 122,
   "id": "ce09dd6e",
   "metadata": {},
   "outputs": [
    {
     "name": "stdout",
     "output_type": "stream",
     "text": [
      "no2\n",
      "EV rr 0.16458689884059585 -0.179828944543343\n",
      "nonEV rr 0.6052751812816011 0.473295194397578\n",
      "x by baseline asthma 263.94618273794185 970.6730896000639\n",
      "pm2.5\n",
      "EV rr 0.13103726957708794 -0.140455042527237\n",
      "nonEV rr 0.3207602461322443 0.278207514845745\n",
      "x by baseline asthma 250.24056634718096 612.5526418006867\n",
      "pm10\n",
      "EV rr 0.20379244192958657 -0.227895375782737\n",
      "nonEV rr 0.40234156994262027 0.338143389426201\n",
      "x by baseline asthma 551.2997768477459 1088.4153289775945\n"
     ]
    },
    {
     "data": {
      "text/plain": [
       "('24.69 (nan-nan)\\n', '8.20 (nan-nan)\\n', '5.01 (nan-nan)\\n')"
      ]
     },
     "execution_count": 122,
     "metadata": {},
     "output_type": "execute_result"
    }
   ],
   "source": [
    "# log(year)\n",
    "execute('no2'),execute('pm2.5'), execute('pm10')"
   ]
  },
  {
   "cell_type": "code",
   "execution_count": 123,
   "id": "ec9c4d88",
   "metadata": {},
   "outputs": [
    {
     "name": "stdout",
     "output_type": "stream",
     "text": [
      "no2\n",
      "EV rr 0.16458689884059585 -0.179828944543343\n",
      "nonEV rr 0.6052751812816011 0.473295194397578\n",
      "x by baseline asthma 263.94618273794185 970.6730896000639\n",
      "pm2.5\n",
      "EV rr 0.13103726957708794 -0.140455042527237\n",
      "nonEV rr 0.3207602461322443 0.278207514845745\n",
      "x by baseline asthma 250.24056634718096 612.5526418006867\n",
      "pm10\n",
      "EV rr 0.20379244192958657 -0.227895375782737\n",
      "nonEV rr 0.40234156994262027 0.338143389426201\n",
      "x by baseline asthma 551.2997768477459 1088.4153289775945\n"
     ]
    },
    {
     "data": {
      "text/plain": [
       "('24.69 (nan-nan)\\n', '8.20 (nan-nan)\\n', '5.01 (nan-nan)\\n')"
      ]
     },
     "execution_count": 123,
     "metadata": {},
     "output_type": "execute_result"
    }
   ],
   "source": [
    "# log(year) and log(year^2)\n",
    "execute('no2'),execute('pm2.5'), execute('pm10')"
   ]
  },
  {
   "cell_type": "code",
   "execution_count": 124,
   "id": "934eb7d7",
   "metadata": {},
   "outputs": [
    {
     "name": "stdout",
     "output_type": "stream",
     "text": [
      "no2\n",
      "EV rr 0.22724959071613027 -0.257799168324151\n",
      "nonEV rr 1.484324834351816 0.910000926194527\n",
      "x by baseline asthma 364.43764613594846 2380.3952606807093\n",
      "pm2.5\n",
      "EV rr 0.17857787354080146 -0.196718140326506\n",
      "nonEV rr 0.8205248877428799 0.599124859368184\n",
      "x by baseline asthma 341.0283834221396 1566.9481917123017\n",
      "pm10\n",
      "EV rr 0.30834294661520323 -0.368665033802812\n",
      "nonEV rr 1.4741505461677367 0.905897123439761\n",
      "x by baseline asthma 834.1300396227252 3987.875406208911\n"
     ]
    },
    {
     "data": {
      "text/plain": [
       "('85.36 (nan-nan)\\n', '45.30 (nan-nan)\\n', '50.12 (nan-nan)\\n')"
      ]
     },
     "execution_count": 124,
     "metadata": {},
     "output_type": "execute_result"
    }
   ],
   "source": [
    "# log(year) and density\n",
    "execute('no2'),execute('pm2.5'), execute('pm10')"
   ]
  },
  {
   "cell_type": "code",
   "execution_count": 125,
   "id": "cb50e5e6",
   "metadata": {},
   "outputs": [
    {
     "name": "stdout",
     "output_type": "stream",
     "text": [
      "no2\n",
      "EV rr 0.16458689884059585 -0.179828944543343\n",
      "nonEV rr 0.6052751812816011 0.473295194397578\n",
      "x by baseline asthma 263.94618273794185 970.6730896000639\n",
      "pm2.5\n",
      "EV rr 0.13103726957708794 -0.140455042527237\n",
      "nonEV rr 0.3207602461322443 0.278207514845745\n",
      "x by baseline asthma 250.24056634718096 612.5526418006867\n",
      "pm10\n",
      "EV rr 0.20379244192958657 -0.227895375782737\n",
      "nonEV rr 0.40234156994262027 0.338143389426201\n",
      "x by baseline asthma 551.2997768477459 1088.4153289775945\n"
     ]
    },
    {
     "data": {
      "text/plain": [
       "('24.69 (nan-nan)\\n', '8.20 (nan-nan)\\n', '5.01 (nan-nan)\\n')"
      ]
     },
     "execution_count": 125,
     "metadata": {},
     "output_type": "execute_result"
    }
   ],
   "source": [
    "execute('no2'),execute('pm2.5'), execute('pm10')"
   ]
  },
  {
   "cell_type": "code",
   "execution_count": 134,
   "id": "dad10d94",
   "metadata": {},
   "outputs": [],
   "source": [
    "\n",
    "a = [-0.179828944543343, -0.140455042527237, -0.227895375782737]\n",
    "b = [0.473295194397578, 0.278207514845745, 0.338143389426201]\n",
    "\n",
    "def compute(x1, x2):\n",
    "    a = 1 - math.exp(x1)\n",
    "    b =  math.exp(x2) - 1\n",
    "    return a*1600, b*1600, a/(b+a)"
   ]
  },
  {
   "cell_type": "code",
   "execution_count": 136,
   "id": "c220c3ff",
   "metadata": {},
   "outputs": [
    {
     "name": "stdout",
     "output_type": "stream",
     "text": [
      "(263.33903814495335, 968.4402900505618, 0.21378751219240683)\n",
      "(209.6596313233407, 513.2163938115909, 0.29003539200820194)\n",
      "(326.0679070873385, 643.7465119081925, 0.3362168067423228)\n"
     ]
    }
   ],
   "source": [
    "for i, j in zip(a, b):\n",
    "    print(compute(i, j))"
   ]
  },
  {
   "cell_type": "code",
   "execution_count": 133,
   "id": "520085a0",
   "metadata": {},
   "outputs": [
    {
     "data": {
      "text/plain": [
       "0.2138911454102356"
      ]
     },
     "execution_count": 133,
     "metadata": {},
     "output_type": "execute_result"
    }
   ],
   "source": [
    "263.3/(968+263)"
   ]
  },
  {
   "cell_type": "code",
   "execution_count": 141,
   "id": "5190dbb2",
   "metadata": {},
   "outputs": [
    {
     "name": "stdout",
     "output_type": "stream",
     "text": [
      "no2\n",
      "EV rr 0.16570458659363174 -0.181167726624437\n",
      "nonEV rr 0.6045324937916319 0.472832433024683\n",
      "x by baseline asthma 265.7386061810282 969.4820499163134\n",
      "Inc 3.6482544401391057\n",
      "pm2.5\n",
      "EV rr 0.13272312634554229 -0.142397006406309\n",
      "nonEV rr 0.32119849218690866 0.278539273288697\n",
      "x by baseline asthma 253.46003019803646 613.3895559188804\n",
      "Inc 2.420064242238192\n",
      "pm10\n",
      "EV rr 0.20489580162758225 -0.229282105781235\n",
      "nonEV rr 0.40169017874788127 0.337678778990345\n",
      "x by baseline asthma 554.2845880091824 1086.6531840378707\n",
      "Inc 1.9604607588689964\n"
     ]
    },
    {
     "data": {
      "text/plain": [
       "('24.13 (nan-nan)\\n', '7.97 (nan-nan)\\n', '4.93 (nan-nan)\\n')"
      ]
     },
     "execution_count": 141,
     "metadata": {},
     "output_type": "execute_result"
    }
   ],
   "source": [
    "## at_risk\n",
    "execute('no2'),execute('pm2.5'), execute('pm10')"
   ]
  },
  {
   "cell_type": "code",
   "execution_count": 140,
   "id": "7c818f46",
   "metadata": {},
   "outputs": [
    {
     "name": "stdout",
     "output_type": "stream",
     "text": [
      "(265.1273385498108, 967.251990066611, 0.2151345226209419)\n",
      "(212.35700215286766, 513.9175874990539, 0.292392168442301)\n",
      "(327.8332826041316, 642.70428599661, 0.33778525758336225)\n"
     ]
    }
   ],
   "source": [
    "a = [-0.181167726624437, -0.142397006406309, -0.229282105781235]\n",
    "b = [0.472832433024683, 0.278539273288697, 0.337678778990345]\n",
    "\n",
    "for i, j in zip(a, b):\n",
    "    print(compute(i, j))\n"
   ]
  },
  {
   "cell_type": "code",
   "execution_count": 155,
   "id": "c6309c96",
   "metadata": {},
   "outputs": [
    {
     "name": "stdout",
     "output_type": "stream",
     "text": [
      "no2\n",
      "EV rr 0.16458689884059585 -0.179828944543343\n",
      "nonEV rr 0.6052751812816011 0.473295194397578\n",
      "baseline MS: 0.21\n",
      "Inc 0.2137875121924068\n",
      "EV rr 0.1695670668082615 -0.185808107925643\n",
      "nonEV rr 0.6399975877404553 0.494694770945059\n",
      "baseline MS: 0.21\n",
      "Inc 0.20945463201180006\n",
      "EV rr 0.16140711744845748 -0.176029931579915\n",
      "nonEV rr 0.583651738270933 0.459733407016303\n",
      "baseline MS: 0.22\n",
      "Inc 0.21663673441289558\n",
      "pm2.5\n",
      "EV rr 0.13103726957708794 -0.140455042527237\n",
      "nonEV rr 0.3207602461322443 0.278207514845745\n",
      "baseline MS: 0.29\n",
      "Inc 0.2900353920082019\n",
      "EV rr 0.13094460198455615 -0.140348406593925\n",
      "nonEV rr 0.3270241429974763 0.282938948852598\n",
      "baseline MS: 0.29\n",
      "Inc 0.28592475669861167\n",
      "EV rr 0.13024641775612145 -0.139545346253332\n",
      "nonEV rr 0.3132374522513697 0.2724954260767\n",
      "baseline MS: 0.29\n",
      "Inc 0.29368918818608075\n",
      "pm10\n",
      "EV rr 0.20379244192958657 -0.227895375782737\n",
      "nonEV rr 0.40234156994262027 0.338143389426201\n",
      "baseline MS: 0.34\n",
      "Inc 0.33621680674232285\n",
      "EV rr 0.21416938460996415 -0.241014011825134\n",
      "nonEV rr 0.43797237557371593 0.363234048803984\n",
      "baseline MS: 0.33\n",
      "Inc 0.32840924732322296\n",
      "EV rr 0.19517841057099916 -0.217134654165205\n",
      "nonEV rr 0.3738197730407442 0.317595015648459\n",
      "baseline MS: 0.34\n",
      "Inc 0.34302114873565115\n"
     ]
    },
    {
     "data": {
      "text/plain": [
       "('21.38 (21.66-20.95)\\n', '29.00 (29.37-28.59)\\n', '33.62 (34.30-32.84)\\n')"
      ]
     },
     "execution_count": 155,
     "metadata": {},
     "output_type": "execute_result"
    }
   ],
   "source": [
    "## pop\n",
    "execute('no2'),execute('pm2.5'), execute('pm10')"
   ]
  },
  {
   "cell_type": "code",
   "execution_count": null,
   "id": "1e4784da",
   "metadata": {},
   "outputs": [],
   "source": []
  }
 ],
 "metadata": {
  "kernelspec": {
   "display_name": "Python 3 (ipykernel)",
   "language": "python",
   "name": "python3"
  },
  "language_info": {
   "codemirror_mode": {
    "name": "ipython",
    "version": 3
   },
   "file_extension": ".py",
   "mimetype": "text/x-python",
   "name": "python",
   "nbconvert_exporter": "python",
   "pygments_lexer": "ipython3",
   "version": "3.11.3"
  }
 },
 "nbformat": 4,
 "nbformat_minor": 5
}
